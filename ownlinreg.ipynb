import pandas as pd
a=pd.read_csv('Salary_Data.csv')
  
#test and trail data splitting
n=len(a.index)
m=n//2
x=a.iloc[m:n,0].values
y=a.iloc[m:n,1].values
x_ts=a.iloc[0:m,0].values
y_ts=a.iloc[0:m,1].values

#calculating mean
x_m= (sum(x)/(float)(len(x)));
y_m= (sum(y)/(float)(len(y)));

#calculating gradient and y intercept
num=0
for i in range(len(x)):
    num+=(x[i]-x_m)*(y[i]-y_m)
den=0
for i in range(len(x)):
    den+=(x[i]-x_m)*(x[i]-x_m)
b=num/den
c=y_m-(x_m*b)

#predcting
y_pd=[]
for i in range(len(x_ts)):
    y_pd.append((x_ts[i]*b) + c)
    
#comparing prediction using plots
import matplotlib.pyplot as plt
plt.scatter(x_ts,y_ts,color='blue')
plt.plot(x_ts,y_pd,color='red')
plt.title('actual-Blue  predicted-Red')
plt.xlabel('yesrs of experience')
plt.ylabel('salary')
plt.show()
